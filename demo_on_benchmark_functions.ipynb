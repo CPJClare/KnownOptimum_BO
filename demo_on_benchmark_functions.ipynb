{
 "cells": [
  {
   "cell_type": "markdown",
   "metadata": {},
   "source": [
    "# Demo on benchmark functions"
   ]
  },
  {
   "cell_type": "code",
   "execution_count": 1,
   "metadata": {},
   "outputs": [],
   "source": [
    "import sys\n",
    "sys.path.insert(0,'..')\n",
    "sys.path.insert(0,'../..')\n",
    "\n",
    "import matplotlib.pyplot as plt\n",
    "\n",
    "from bayes_opt import BayesOpt_KnownOptimumValue,BayesOpt\n",
    "import numpy as np\n",
    "from bayes_opt import vis_ERM,functions\n",
    "import warnings\n",
    "\n",
    "warnings.filterwarnings(\"ignore\")\n"
   ]
  },
  {
   "cell_type": "markdown",
   "metadata": {},
   "source": [
    "# Specify the test function"
   ]
  },
  {
   "cell_type": "code",
   "execution_count": 2,
   "metadata": {},
   "outputs": [],
   "source": [
    "# select the function to be optimized\n",
    "#myfunction=functions.branin(sd=0)\n",
    "myfunction=functions.hartman_3d()\n",
    "#myfunction=functions.hartman_6d()\n",
    "#myfunction=functions.ackley(input_dim=5)\n",
    "#myfunction=functions.gSobol(a=np.array([1,1,1,1,1]))\n",
    "#myfunction=functions.gSobol(a=np.array([1,1,1,1,1,1,1,1,1,1]))\n",
    "\n",
    "\n",
    "func=myfunction.func"
   ]
  },
  {
   "cell_type": "markdown",
   "metadata": {},
   "source": [
    "# Print the black-box function"
   ]
  },
  {
   "cell_type": "code",
   "execution_count": 3,
   "metadata": {},
   "outputs": [
    {
     "name": "stdout",
     "output_type": "stream",
     "text": [
      "<bound method hartman_3d.func of <bayes_opt.functions.hartman_3d object at 0x000001FC446A1358>>\n",
      "f([0,0,0])= 0.06797411659013464\n",
      "f([1,1,1])= 0.3004760740554008\n",
      "Search space: [(0, 1), (0, 1), (0, 1)]\n",
      "f* known optimum value is  3.86278\n"
     ]
    }
   ],
   "source": [
    "# myfunction.func: contains the black-box function\n",
    "print(myfunction.func)\n",
    "\n",
    "print(\"f([0,0,0])=\",myfunction.func([0,0,0]))\n",
    "print(\"f([1,1,1])=\",myfunction.func([1,1,1]))\n",
    "\n",
    "\n",
    "# myfunction.bounds: contains the SearchSpace\n",
    "print(\"Search space:\",myfunction.bounds)\n",
    "\n",
    "# myfunction.fstar: contains the known optimum value\n",
    "print(\"f* known optimum value is \", myfunction.fstar)\n"
   ]
  },
  {
   "cell_type": "markdown",
   "metadata": {},
   "source": [
    "# Specify the acquisition function"
   ]
  },
  {
   "cell_type": "code",
   "execution_count": 4,
   "metadata": {},
   "outputs": [],
   "source": [
    "#acq_name='ei'\n",
    "#acq_name='ucb'\n",
    "acq_name='erm'\n",
    "#acq_name='cbm'\n",
    "#acq_name='kov_ei'"
   ]
  },
  {
   "cell_type": "markdown",
   "metadata": {},
   "source": [
    "# Specify the surrogate model either tgp or gp"
   ]
  },
  {
   "cell_type": "code",
   "execution_count": 5,
   "metadata": {},
   "outputs": [],
   "source": [
    "#IsTGP=0 # using vanilla GP \n",
    "IsTGP=1 # using Transformed GP "
   ]
  },
  {
   "cell_type": "markdown",
   "metadata": {},
   "source": [
    "# Set up the BO class"
   ]
  },
  {
   "cell_type": "code",
   "execution_count": 6,
   "metadata": {},
   "outputs": [
    {
     "name": "stdout",
     "output_type": "stream",
     "text": [
      "using transform GP with the known optimum value\n"
     ]
    }
   ],
   "source": [
    "if 'kov' in acq_name or acq_name == 'erm' or acq_name == 'cbm':\n",
    "    bo=BayesOpt_KnownOptimumValue(myfunction.func,myfunction.bounds,fstar=myfunction.fstar, \\\n",
    "                              acq_name=acq_name,IsTGP=1,verbose=1)\n",
    "else:\n",
    "    bo=BayesOpt(myfunction.func,myfunction.bounds,acq_name=acq_name,verbose=1)\n",
    "            \n",
    "if IsTGP==1: \n",
    "    print(\"using transform GP with the known optimum value\")\n",
    "else:\n",
    "    print(\"using vanilla GP without the known optimum value\")"
   ]
  },
  {
   "cell_type": "markdown",
   "metadata": {},
   "source": [
    "# Initialize BO using 3*dim number of observations"
   ]
  },
  {
   "cell_type": "code",
   "execution_count": 7,
   "metadata": {},
   "outputs": [],
   "source": [
    "bo.init(n_init_points=3*myfunction.input_dim)"
   ]
  },
  {
   "cell_type": "markdown",
   "metadata": {},
   "source": [
    "# Run for 10*dim iterations"
   ]
  },
  {
   "cell_type": "code",
   "execution_count": 8,
   "metadata": {},
   "outputs": [
    {
     "name": "stdout",
     "output_type": "stream",
     "text": [
      "estimated lengthscale [0.01]\n",
      "y_lcb=[[-7.07210804]] y_ucb=[[4.94254969]] fstar_scaled=5.1699\n",
      "EI\n",
      "recommended x=[0.384657   0.33682609 0.75005615] current y=-2.095, ymin=-2.095\n",
      "recommended x=[0.43159522 0.36379535 0.73276085] current y=-2.110, ymin=-2.110\n",
      "recommended x=[0.41619777 0.3544163  0.738343  ] current y=-2.108, ymin=-2.110\n",
      "recommended x=[0.4288762  0.37820387 0.74077246] current y=-2.282, ymin=-2.282\n",
      "recommended x=[0.40362095 0.4455331  0.78575871] current y=-3.136, ymin=-3.136\n",
      "recommended x=[0.38349641 0.49929772 0.82128334] current y=-3.641, ymin=-3.641\n",
      "recommended x=[0.36415801 0.55131558 0.85536208] current y=-3.826, ymin=-3.826\n",
      "recommended x=[0.354808   0.57682697 0.87192069] current y=-3.779, ymin=-3.826\n",
      "recommended x=[0.36000233 0.5498069  0.85844662] current y=-3.824, ymin=-3.826\n",
      "estimated lengthscale [0.15269081]\n",
      "recommended x=[0.37095368 0.55804683 0.85169982] current y=-3.824, ymin=-3.826\n",
      "recommended x=[0.36851707 0.55259725 0.85878956] current y=-3.822, ymin=-3.826\n",
      "recommended x=[0.34846757 0.56013115 0.83578252] current y=-3.801, ymin=-3.826\n",
      "recommended x=[0.3621235  0.55499681 0.85140325] current y=-3.827, ymin=-3.827\n",
      "recommended x=[0.36252025 0.55424473 0.85168263] current y=-3.827, ymin=-3.827\n",
      "recommended x=[0.4945898  0.192541   0.62131292] current y=-0.481, ymin=-3.827\n",
      "recommended x=[0.36247397 0.55534442 0.85194713] current y=-3.827, ymin=-3.827\n",
      "recommended x=[0.36250488 0.55482947 0.85185038] current y=-3.827, ymin=-3.827\n",
      "recommended x=[0.36253009 0.5548318  0.85188279] current y=-3.827, ymin=-3.827\n",
      "estimated lengthscale [0.13287596]\n",
      "recommended x=[0.36249105 0.5548628  0.8518485 ] current y=-3.827, ymin=-3.827\n",
      "recommended x=[0.362518   0.55487694 0.85182056] current y=-3.827, ymin=-3.827\n",
      "erm x_max is repeated\n",
      "recommended x=[0.0132097  0.90707021 0.51606864] current y=-2.789, ymin=-3.827\n",
      "recommended x=[0.97427776 1.         0.98837772] current y=-0.332, ymin=-3.827\n",
      "recommended x=[0.03828423 0.98276006 0.97356389] current y=-0.476, ymin=-3.827\n",
      "recommended x=[0.94657242 0.150464   0.        ] current y=-0.043, ymin=-3.827\n",
      "recommended x=[0.59584856 1.         0.53576432] current y=-1.260, ymin=-3.827\n",
      "recommended x=[0.76957214 0.         1.        ] current y=-0.088, ymin=-3.827\n",
      "recommended x=[1.         0.77840162 0.54427003] current y=-0.375, ymin=-3.827\n",
      "estimated lengthscale [0.13725899]\n",
      "recommended x=[1.         0.         0.41472351] current y=-0.141, ymin=-3.827\n",
      "recommended x=[0.50425717 1.         1.        ] current y=-0.326, ymin=-3.827\n",
      "recommended x=[0.         0.47022607 0.        ] current y=-0.022, ymin=-3.827\n"
     ]
    }
   ],
   "source": [
    "NN=10*myfunction.input_dim\n",
    "for index in range(0,NN):\n",
    "\n",
    "    bo.select_next_point()\n",
    "    \n",
    "    if myfunction.ismax==1:\n",
    "        print(\"recommended x={} current y={:.3f}, ymax={:.3f}\".format(bo.X_ori[-1],bo.Y_ori[-1],bo.Y_ori.max()))\n",
    "    else:\n",
    "        print(\"recommended x={} current y={:.3f}, ymin={:.3f}\".format(bo.X_ori[-1],myfunction.ismax*bo.Y_ori[-1],myfunction.ismax*bo.Y_ori.max()))\n",
    "    sys.stdout.flush()\n",
    "\n"
   ]
  },
  {
   "cell_type": "markdown",
   "metadata": {},
   "source": [
    "# Plot the performance"
   ]
  },
  {
   "cell_type": "code",
   "execution_count": 9,
   "metadata": {},
   "outputs": [
    {
     "data": {
      "text/plain": [
       "Text(0.5, 1.0, 'Performance')"
      ]
     },
     "execution_count": 9,
     "metadata": {},
     "output_type": "execute_result"
    },
    {
     "data": {
      "image/png": "[encoded data removed]",
      "text/plain": [
       "<Figure size 432x216 with 1 Axes>"
      ]
     },
     "metadata": {
      "needs_background": "light"
     },
     "output_type": "display_data"
    }
   ],
   "source": [
    "fig=plt.figure(figsize=(6, 3))\n",
    "myYbest=[bo.Y_ori[:idx+1].max()* myfunction.ismax for idx,val in enumerate(bo.Y_ori)]\n",
    "plt.plot(range(len(myYbest)),myYbest,linewidth=2,color='m',linestyle='-',marker='o')\n",
    "if myfunction.ismax==1:\n",
    "    plt.hlines(y=myfunction.fstar,xmin=0,xmax=len(myYbest),label='f*')\n",
    "else:\n",
    "    plt.hlines(y=-myfunction.fstar,xmin=0,xmax=len(myYbest),label='f*')\n",
    "\n",
    "plt.xlabel('Iteration',fontsize=14)\n",
    "plt.ylabel('Best Found Value',fontsize=14)\n",
    "plt.legend(prop={'size': 16})\n",
    "plt.title('Performance',fontsize=16)"
   ]
  }
 ],
 "metadata": {
  "kernelspec": {
   "display_name": "Python 3",
   "language": "python",
   "name": "python3"
  },
  "language_info": {
   "codemirror_mode": {
    "name": "ipython",
    "version": 3
   },
   "file_extension": ".py",
   "mimetype": "text/x-python",
   "name": "python",
   "nbconvert_exporter": "python",
   "pygments_lexer": "ipython3",
   "version": "3.6.8"
  }
 },
 "nbformat": 4,
 "nbformat_minor": 2
}
