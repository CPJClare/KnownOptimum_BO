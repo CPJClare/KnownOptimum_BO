{
 "cells": [
  {
   "cell_type": "markdown",
   "metadata": {},
   "source": [
    "# Demo on benchmark functions"
   ]
  },
  {
   "cell_type": "code",
   "execution_count": 3,
   "metadata": {},
   "outputs": [],
   "source": [
    "import sys\n",
    "sys.path.insert(0,'..')\n",
    "sys.path.insert(0,'../..')\n",
    "\n",
    "import matplotlib.pyplot as plt\n",
    "\n",
    "from bayes_opt import BayesOpt_KnownOptimumValue,BayesOpt\n",
    "import numpy as np\n",
    "from bayes_opt import vis_ERM,functions"
   ]
  },
  {
   "cell_type": "markdown",
   "metadata": {},
   "source": [
    "# Specify the test function"
   ]
  },
  {
   "cell_type": "code",
   "execution_count": 4,
   "metadata": {},
   "outputs": [],
   "source": [
    "# select the function to be optimized\n",
    "#myfunction=functions.branin(sd=0)\n",
    "myfunction=functions.hartman_3d()\n",
    "#myfunction=functions.hartman_6d()\n",
    "#myfunction=functions.ackley(input_dim=5)\n",
    "#myfunction=functions.gSobol(a=np.array([1,1,1,1,1]))\n",
    "#myfunction=functions.gSobol(a=np.array([1,1,1,1,1,1,1,1,1,1]))\n",
    "\n",
    "\n",
    "func=myfunction.func"
   ]
  },
  {
   "cell_type": "markdown",
   "metadata": {},
   "source": [
    "# Print the black-box function"
   ]
  },
  {
   "cell_type": "code",
   "execution_count": 9,
   "metadata": {},
   "outputs": [
    {
     "name": "stdout",
     "output_type": "stream",
     "text": [
      "<bound method hartman_3d.func of <bayes_opt.functions.hartman_3d object at 0x000002096159F5C0>>\n",
      "f([0,0,0])= 0.06797411659013464\n",
      "f([1,1,1])= 0.3004760740554008\n",
      "Search space: [(0, 1), (0, 1), (0, 1)]\n",
      "f* known optimum value is  3.86278\n"
     ]
    }
   ],
   "source": [
    "# myfunction.func: contains the black-box function\n",
    "print(myfunction.func)\n",
    "\n",
    "print(\"f([0,0,0])=\",myfunction.func([0,0,0]))\n",
    "print(\"f([1,1,1])=\",myfunction.func([1,1,1]))\n",
    "\n",
    "\n",
    "# myfunction.bounds: contains the SearchSpace\n",
    "print(\"Search space:\",myfunction.bounds)\n",
    "\n",
    "# myfunction.fstar: contains the known optimum value\n",
    "print(\"f* known optimum value is \", myfunction.fstar)\n"
   ]
  },
  {
   "cell_type": "markdown",
   "metadata": {},
   "source": [
    "# Specify the acquisition function"
   ]
  },
  {
   "cell_type": "code",
   "execution_count": 14,
   "metadata": {},
   "outputs": [],
   "source": [
    "#acq_name='ei'\n",
    "#acq_name='ucb'\n",
    "acq_name='erm'\n",
    "#acq_name='cbm'\n",
    "#acq_name='kov_ei'"
   ]
  },
  {
   "cell_type": "markdown",
   "metadata": {},
   "source": [
    "# Specify the surrogate model either tgp or gp"
   ]
  },
  {
   "cell_type": "code",
   "execution_count": 15,
   "metadata": {},
   "outputs": [],
   "source": [
    "#IsTGP=0 # using vanilla GP \n",
    "IsTGP=1 # using Transformed GP "
   ]
  },
  {
   "cell_type": "markdown",
   "metadata": {},
   "source": [
    "# Set up the BO class"
   ]
  },
  {
   "cell_type": "code",
   "execution_count": 17,
   "metadata": {},
   "outputs": [
    {
     "name": "stdout",
     "output_type": "stream",
     "text": [
      "using transform GP with the known optimum value\n"
     ]
    }
   ],
   "source": [
    "if 'kov' in acq_name or acq_name == 'erm' or acq_name == 'cbm':\n",
    "    bo=BayesOpt_KnownOptimumValue(myfunction.func,myfunction.bounds,fstar=myfunction.fstar, \\\n",
    "                              acq_name=acq_name,IsTGP=1,verbose=1)\n",
    "else:\n",
    "    bo=BayesOpt(myfunction.func,myfunction.bounds,acq_name=acq_name,verbose=1)\n",
    "            \n",
    "if acq_func['surrogate']=='tgp': \n",
    "    print(\"using transform GP with the known optimum value\")\n",
    "else:\n",
    "    print(\"using vanilla GP without the known optimum value\")"
   ]
  },
  {
   "cell_type": "markdown",
   "metadata": {},
   "source": [
    "# Initialize BO using 3*dim number of observations"
   ]
  },
  {
   "cell_type": "code",
   "execution_count": 18,
   "metadata": {},
   "outputs": [],
   "source": [
    "bo.init(gp_params,n_init_points=3*myfunction.input_dim)"
   ]
  },
  {
   "cell_type": "markdown",
   "metadata": {},
   "source": [
    "# Run for 10*dim iterations"
   ]
  },
  {
   "cell_type": "code",
   "execution_count": 19,
   "metadata": {},
   "outputs": [
    {
     "name": "stdout",
     "output_type": "stream",
     "text": [
      "recommended x=[0.46313898 0.40495687 0.79778486] current y=-2.955048368335091, ymin=-2.955048368335091\n",
      "recommended x=[0.42260342 0.40683665 0.91387254] current y=-2.7562403196942933, ymin=-2.955048368335091\n",
      "recommended x=[0.40073449 0.36515505 0.8118147 ] current y=-2.7147293795264122, ymin=-2.955048368335091\n",
      "recommended x=[0.52004692 0.4774769  0.87089836] current y=-3.5420458859587103, ymin=-3.5420458859587103\n",
      "recommended x=[0.60091053 0.58263639 0.91048591] current y=-3.412175240255187, ymin=-3.5420458859587103\n",
      "recommended x=[0.57746316 0.50376187 0.89055277] current y=-3.5231650468139035, ymin=-3.5420458859587103\n",
      "estimated lengthscale = [0.09759769]\n",
      "recommended x=[0.48473458 0.57248855 0.86109704] current y=-3.769136733502136, ymin=-3.769136733502136\n",
      "recommended x=[0.45345908 0.59615526 0.84601344] current y=-3.726445207837796, ymin=-3.769136733502136\n",
      "recommended x=[0.49303333 0.57242665 0.86158353] current y=-3.7653641802053546, ymin=-3.769136733502136\n",
      "recommended x=[0.46854578 0.56840018 0.8873996 ] current y=-3.6756283818920608, ymin=-3.769136733502136\n",
      "recommended x=[0.42222134 0.53176124 0.79571121] current y=-3.5091755947500403, ymin=-3.769136733502136\n",
      "recommended x=[0.76662225 0.49797936 0.87661917] current y=-3.5058569750964055, ymin=-3.769136733502136\n",
      "recommended x=[0.81586601 0.54671725 1.        ] current y=-1.961251329267727, ymin=-3.769136733502136\n",
      "recommended x=[0.47570039 0.54940199 0.84415415] current y=-3.7808368589362225, ymin=-3.7808368589362225\n",
      "recommended x=[0.4726215  0.55744855 0.84845095] current y=-3.7874483044382066, ymin=-3.7874483044382066\n",
      "recommended x=[0.57647765 0.23410996 0.45004363] current y=-0.33760449444918755, ymin=-3.7874483044382066\n",
      "recommended x=[0.75367539 0.15115646 0.89902047] current y=-0.7347461097600853, ymin=-3.7874483044382066\n",
      "recommended x=[0.56683266 0.22522013 0.74290046] current y=-1.2325703402693728, ymin=-3.7874483044382066\n",
      "recommended x=[0.42370264 0.54477163 0.85330306] current y=-3.8057725010842134, ymin=-3.8057725010842134\n",
      "recommended x=[0.40875725 0.54070097 0.85425199] current y=-3.807283065017831, ymin=-3.807283065017831\n",
      "recommended x=[0.4055191  0.54025727 0.85443686] current y=-3.807809267068321, ymin=-3.807809267068321\n",
      "estimated lengthscale = [0.10230329]\n",
      "recommended x=[0.37544638 0.5504158  0.85194227] current y=-3.822859211944583, ymin=-3.822859211944583\n",
      "recommended x=[0.22765847 0.58048129 0.84317866] current y=-3.8233359945842658, ymin=-3.8233359945842658\n",
      "recommended x=[0.29737365 0.5683556  0.84683603] current y=-3.8325851248620104, ymin=-3.8325851248620104\n",
      "recommended x=[0.3074707  0.56623929 0.84794838] current y=-3.8334330114719655, ymin=-3.8334330114719655\n",
      "recommended x=[0.00716746 0.55465521 0.88625601] current y=-3.745860551859537, ymin=-3.8334330114719655\n",
      "recommended x=[0.12063813 0.57942129 0.91080549] current y=-3.5188060658714426, ymin=-3.8334330114719655\n",
      "recommended x=[0.06319783 0.59608596 0.81941893] current y=-3.702773157337367, ymin=-3.8334330114719655\n",
      "recommended x=[0.0069244  0.4936987  0.83253427] current y=-3.6947585806393226, ymin=-3.8334330114719655\n",
      "recommended x=[0.46912441 0.15438739 1.        ] current y=-0.3899926923704581, ymin=-3.8334330114719655\n"
     ]
    }
   ],
   "source": [
    "NN=10*myfunction.input_dim\n",
    "for index in range(0,NN):\n",
    "\n",
    "    bo.maximize()\n",
    "\n",
    "    if bo.stop_flag==1:\n",
    "        break\n",
    "    \n",
    "    if myfunction.ismax==1:\n",
    "        print(\"recommended x={} current y={}, ymax={}\".format(bo.X_original[-1],bo.Y_original[-1],bo.Y_original.max()))\n",
    "    else:\n",
    "        print(\"recommended x={} current y={}, ymin={}\".format(bo.X_original[-1],myfunction.ismax*bo.Y_original[-1],myfunction.ismax*bo.Y_original.max()))\n",
    "    sys.stdout.flush()\n",
    "\n"
   ]
  },
  {
   "cell_type": "markdown",
   "metadata": {},
   "source": [
    "# Plot the performance"
   ]
  },
  {
   "cell_type": "code",
   "execution_count": 25,
   "metadata": {},
   "outputs": [
    {
     "data": {
      "text/plain": [
       "Text(0.5, 1.0, 'Performance')"
      ]
     },
     "execution_count": 25,
     "metadata": {},
     "output_type": "execute_result"
    },
    {
     "data": {
      "image/png": "[encoded data removed]",
      "text/plain": [
       "<Figure size 432x216 with 1 Axes>"
      ]
     },
     "metadata": {
      "needs_background": "light"
     },
     "output_type": "display_data"
    }
   ],
   "source": [
    "fig=plt.figure(figsize=(6, 3))\n",
    "myYbest=[bo.Y_original[:idx+1].max()*-1 for idx,val in enumerate(bo.Y_original)]\n",
    "plt.plot(range(len(myYbest)),myYbest,linewidth=2,color='m',linestyle='-',marker='o')\n",
    "if myfunction.ismax==1:\n",
    "    plt.hlines(y=myfunction.fstar,xmin=0,xmax=len(myYbest),label='f*')\n",
    "else:\n",
    "    plt.hlines(y=-myfunction.fstar,xmin=0,xmax=len(myYbest),label='f*')\n",
    "\n",
    "plt.xlabel('Iteration',fontsize=14)\n",
    "plt.ylabel('Best Found Value',fontsize=14)\n",
    "plt.legend(prop={'size': 16})\n",
    "plt.title('Performance',fontsize=16)"
   ]
  }
 ],
 "metadata": {
  "kernelspec": {
   "display_name": "Python 3",
   "language": "python",
   "name": "python3"
  },
  "language_info": {
   "codemirror_mode": {
    "name": "ipython",
    "version": 3
   },
   "file_extension": ".py",
   "mimetype": "text/x-python",
   "name": "python",
   "nbconvert_exporter": "python",
   "pygments_lexer": "ipython3",
   "version": "3.6.8"
  }
 },
 "nbformat": 4,
 "nbformat_minor": 2
}
